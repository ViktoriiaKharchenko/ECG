{
  "nbformat": 4,
  "nbformat_minor": 0,
  "metadata": {
    "colab": {
      "name": "ECG.ipynb",
      "provenance": [],
      "collapsed_sections": []
    },
    "kernelspec": {
      "name": "python3",
      "display_name": "Python 3"
    },
    "language_info": {
      "name": "python"
    }
  },
  "cells": [
    {
      "cell_type": "code",
      "metadata": {
        "id": "LmDPtWoIKQUc"
      },
      "source": [
        "import numpy as np\n",
        "from os import listdir\n",
        "from os.path import isfile, join\n",
        "import pandas as pd\n",
        "import scipy.io as sio\n",
        "import matplotlib.pyplot as plt # Отрисовка изображений\n"
      ],
      "execution_count": 99,
      "outputs": []
    },
    {
      "cell_type": "code",
      "metadata": {
        "id": "2rJBTO6jKsJi"
      },
      "source": [
        "from sklearn.model_selection import train_test_split\n",
        "from tensorflow.keras import utils\n",
        "from sklearn.preprocessing import StandardScaler \n",
        "from tensorflow.keras.models import Sequential \n",
        "from tensorflow.keras.layers import Dense, Activation, Dropout, BatchNormalization \n",
        "from sklearn.preprocessing import MinMaxScaler \n"
      ],
      "execution_count": 81,
      "outputs": []
    },
    {
      "cell_type": "code",
      "metadata": {
        "colab": {
          "base_uri": "https://localhost:8080/"
        },
        "id": "TD5lixX8L0T-",
        "outputId": "008c1c2c-91a2-456b-c15e-5e462f13812a"
      },
      "source": [
        "# number_of_classes = 4\n",
        "# mypath = 'drive/MyDrive/training2017/'\n",
        "# onlyfiles = [f for f in listdir(mypath) if (isfile(join(mypath, f)) and f[0] == 'A')]\n",
        "# bats = [f for f in onlyfiles if f[7] == 'm']\n",
        "# check = 9000\n",
        "# mats = [f for f in bats if (np.shape(sio.loadmat(mypath + f)['val'])[1] >= check)]\n",
        "# size = len(mats)\n",
        "# print('Training size is ', len(mats))\n",
        "# X = np.zeros((len(mats), check))\n",
        "# for i in range(len(mats)):\n",
        "#     X[i, :] = sio.loadmat(mypath + mats[i])['val'][0, :check]\n",
        "# print(X.shape)\n",
        "datasetPath = 'drive/MyDrive/Colab Notebooks/data.csv'\n",
        "resultPath = 'drive/MyDrive/Colab Notebooks/result.csv'\n",
        "\n",
        "X = pd.read_csv(datasetPath, delimiter=',')\n",
        "Y = pd.read_csv(resultPath, delimiter=',')\n",
        "\n",
        "print(X.shape)\n",
        "print(Y)\n"
      ],
      "execution_count": 73,
      "outputs": [
        {
          "output_type": "stream",
          "text": [
            "(7560, 9000)\n",
            "      0.000000000000000000e+00\n",
            "0                          0.0\n",
            "1                          0.0\n",
            "2                          1.0\n",
            "3                          1.0\n",
            "4                          0.0\n",
            "...                        ...\n",
            "7555                       0.0\n",
            "7556                       2.0\n",
            "7557                       0.0\n",
            "7558                       0.0\n",
            "7559                       0.0\n",
            "\n",
            "[7560 rows x 1 columns]\n"
          ],
          "name": "stdout"
        }
      ]
    },
    {
      "cell_type": "code",
      "metadata": {
        "id": "ZnuEe0UuL324",
        "colab": {
          "base_uri": "https://localhost:8080/"
        },
        "outputId": "0b2c96cf-dd25-4176-ceb7-0a4c38dac0d1"
      },
      "source": [
        "# target_train = np.zeros((len(mats), 1))\n",
        "# Train_data = pd.read_csv(mypath + 'REFERENCE.csv', sep=',', header=None, names=None)\n",
        "# for i in range(len(mats)):\n",
        "#     if Train_data.loc[Train_data[0] == mats[i][:6], 1].values == 'N':\n",
        "#         target_train[i] = 0\n",
        "#     elif Train_data.loc[Train_data[0] == mats[i][:6], 1].values == 'A':\n",
        "#         target_train[i] = 1\n",
        "#     elif Train_data.loc[Train_data[0] == mats[i][:6], 1].values == 'O':\n",
        "#         target_train[i] = 2\n",
        "#     else:\n",
        "#         target_train[i] = 3\n",
        "# print(target_train.shape)\n",
        "x_train, x_test, y_train, y_test = train_test_split(X, Y, test_size=0.2, shuffle=True)  \n",
        "# scale_features_std = StandardScaler() \n",
        "# x_train = scale_features_std.fit_transform(x_train) \n",
        "# x_test = scale_features_std.transform(x_test) \n",
        "scale_features_mm = MinMaxScaler() \n",
        "x_train = scale_features_mm.fit_transform(x_train) \n",
        "x_test = scale_features_mm.transform(x_test)\n",
        "print(x_train.shape)  \n",
        "print(y_train.shape)  \n",
        "print(y_train)\n"
      ],
      "execution_count": 82,
      "outputs": [
        {
          "output_type": "stream",
          "text": [
            "(6048, 9000)\n",
            "(6048, 1)\n",
            "      0.000000000000000000e+00\n",
            "7322                       0.0\n",
            "6046                       0.0\n",
            "373                        0.0\n",
            "1518                       1.0\n",
            "211                        0.0\n",
            "...                        ...\n",
            "500                        1.0\n",
            "497                        0.0\n",
            "209                        0.0\n",
            "5865                       2.0\n",
            "7193                       0.0\n",
            "\n",
            "[6048 rows x 1 columns]\n"
          ],
          "name": "stdout"
        }
      ]
    },
    {
      "cell_type": "code",
      "metadata": {
        "colab": {
          "base_uri": "https://localhost:8080/"
        },
        "id": "9CwJC_yWNXAH",
        "outputId": "25d142f8-b3e2-4d3c-aed0-f88953d38fc3"
      },
      "source": [
        "y_train = utils.to_categorical(y_train, 4)\n",
        "y_test = utils.to_categorical(y_test, 4)\n",
        "print(y_train.shape)"
      ],
      "execution_count": 83,
      "outputs": [
        {
          "output_type": "stream",
          "text": [
            "(6048, 4)\n"
          ],
          "name": "stdout"
        }
      ]
    },
    {
      "cell_type": "code",
      "metadata": {
        "id": "z9dg4snhLclc"
      },
      "source": [
        "def create_model():\n",
        "  model = Sequential()\n",
        "  model.add(Dense(1024,input_dim = 9000, activation='relu'))\n",
        "  model.add(Dense(1024, activation='relu'))\n",
        "  model.add(Dropout(0.5))\n",
        "  model.add(Dense(1024, activation='relu'))\n",
        "  model.add(Dense(1024, activation='relu'))\n",
        "  model.add(Dropout(0.5))\n",
        "  model.add(Dense(512, activation='relu'))\n",
        "  model.add(Dense(512, activation='relu'))\n",
        "  model.add(Dropout(0.5))\n",
        "  model.add(Dense(512, activation='relu'))\n",
        "  model.add(Dense(512, activation='relu'))\n",
        "  model.add(Dropout(0.5))\n",
        "  model.add(Dense(256, activation='relu'))\n",
        "  model.add(Dense(256, activation='relu'))\n",
        "  model.add(Dropout(0.5))\n",
        "  model.add(Dense(128, activation='relu'))\n",
        "  model.add(Dense(128, activation='relu'))\n",
        "  model.add(Dropout(0.5))\n",
        "  model.add(Dense(64, activation='relu'))\n",
        "  model.add(Dense(64, activation='relu'))\n",
        "\t#model.add(Dropout(0.5))\n",
        "\t# model.add(Dense(512, kernel_initializer='normal', activation='relu'))\n",
        "\t# model.add(Dense(512, kernel_initializer='normal', activation='relu'))\n",
        "\t# model.add(Dense(512, kernel_initializer='normal', activation='relu'))\n",
        "\t# model.add(Dropout(0.5))\n",
        "\t# model.add(Dense(256, kernel_initializer='normal', activation='relu'))\n",
        "\t# model.add(Dense(256, kernel_initializer='normal', activation='relu'))\n",
        "\t# model.add(Dropout(0.5))\n",
        "\t# model.add(Dense(128, kernel_initializer='normal', activation='relu'))\n",
        "\t# model.add(Dense(128, kernel_initializer='normal', activation='relu'))\n",
        "\t# model.add(Dropout(0.5))\n",
        "\t# model.add(Dense(64, kernel_initializer='normal', activation='relu'))\n",
        "\t# model.add(Dense(64, kernel_initializer='normal', activation='relu'))\n",
        "\t# model.add(Dropout(0.5))\n",
        "  model.add(Dense(4, kernel_initializer='normal', activation='softmax'))\n",
        "  model.compile(loss='categorical_crossentropy', optimizer='adam', metrics=['accuracy'])\n",
        "  return model\n"
      ],
      "execution_count": 95,
      "outputs": []
    },
    {
      "cell_type": "code",
      "metadata": {
        "colab": {
          "base_uri": "https://localhost:8080/"
        },
        "id": "HY1P1DdVPlpq",
        "outputId": "17d2e544-e86a-4264-a647-a7bcde5174ed"
      },
      "source": [
        "# Создаём пустую сеть\n",
        "model = create_model()\n",
        "\n",
        "# Обучаем сеть\n",
        "history = model.fit(x_train, \n",
        "          y_train,\n",
        "          batch_size=8, \n",
        "          epochs=10,\n",
        "          validation_split=0.2, # Указываем 20% случайных примеров для проверочной выборки\n",
        "          verbose=1)"
      ],
      "execution_count": 101,
      "outputs": [
        {
          "output_type": "stream",
          "text": [
            "Epoch 1/10\n",
            "605/605 [==============================] - 56s 90ms/step - loss: 1.1109 - accuracy: 0.5569 - val_loss: 0.9566 - val_accuracy: 0.5942\n",
            "Epoch 2/10\n",
            "605/605 [==============================] - 53s 87ms/step - loss: 0.9721 - accuracy: 0.5903 - val_loss: 0.9622 - val_accuracy: 0.5942\n",
            "Epoch 3/10\n",
            "605/605 [==============================] - 52s 87ms/step - loss: 0.9388 - accuracy: 0.6115 - val_loss: 0.9571 - val_accuracy: 0.5942\n",
            "Epoch 4/10\n",
            "605/605 [==============================] - 54s 89ms/step - loss: 0.9585 - accuracy: 0.6018 - val_loss: 0.9574 - val_accuracy: 0.5942\n",
            "Epoch 5/10\n",
            "605/605 [==============================] - 53s 87ms/step - loss: 0.9594 - accuracy: 0.6003 - val_loss: 0.9567 - val_accuracy: 0.5942\n",
            "Epoch 6/10\n",
            "605/605 [==============================] - 53s 87ms/step - loss: 0.9546 - accuracy: 0.5923 - val_loss: 0.9628 - val_accuracy: 0.5942\n",
            "Epoch 7/10\n",
            "605/605 [==============================] - 52s 86ms/step - loss: 0.9491 - accuracy: 0.6074 - val_loss: 0.9571 - val_accuracy: 0.5942\n",
            "Epoch 8/10\n",
            "605/605 [==============================] - 53s 88ms/step - loss: 0.9618 - accuracy: 0.5962 - val_loss: 0.9570 - val_accuracy: 0.5942\n",
            "Epoch 9/10\n",
            "605/605 [==============================] - 53s 87ms/step - loss: 0.9582 - accuracy: 0.5994 - val_loss: 0.9646 - val_accuracy: 0.5942\n",
            "Epoch 10/10\n",
            "605/605 [==============================] - 53s 88ms/step - loss: 0.9708 - accuracy: 0.5861 - val_loss: 0.9575 - val_accuracy: 0.5942\n"
          ],
          "name": "stdout"
        }
      ]
    },
    {
      "cell_type": "code",
      "metadata": {
        "colab": {
          "base_uri": "https://localhost:8080/"
        },
        "id": "cRDvxf4Yc_Rn",
        "outputId": "1bfc5ac7-a4cb-439b-905f-74d713624c1a"
      },
      "source": [
        "scores = model.evaluate(x_test, y_test, verbose=1)\n",
        "print(scores)\n",
        "print(\"Доля верных ответов на тестовых данных, в процентах: \", round(scores[1] * 100, 4), \"%\", sep=\"\")"
      ],
      "execution_count": 102,
      "outputs": [
        {
          "output_type": "stream",
          "text": [
            "48/48 [==============================] - 2s 31ms/step - loss: 0.9392 - accuracy: 0.6065\n",
            "[0.9392434358596802, 0.6064814925193787]\n",
            "Доля верных ответов на тестовых данных, в процентах: 60.6481%\n"
          ],
          "name": "stdout"
        }
      ]
    },
    {
      "cell_type": "code",
      "metadata": {
        "colab": {
          "base_uri": "https://localhost:8080/",
          "height": 279
        },
        "id": "_9XOX4u9dP78",
        "outputId": "218e0365-1ccf-4d5d-e8d3-1140663787b0"
      },
      "source": [
        "# Выводим график точности на обучающей выборке\n",
        "# label - имя графика в легенде\n",
        "plt.plot(history.history['accuracy'], \n",
        "         label='Доля верных ответов на обучающем наборе')\n",
        "\n",
        "# Выводим график точности на проверочной выборке\n",
        "plt.plot(history.history['val_accuracy'], \n",
        "         label='Доля верных ответов на проверочном наборе')\n",
        "\n",
        "# Выводим подписи осей\n",
        "plt.xlabel('Эпоха обучения')\n",
        "plt.ylabel('Доля верных ответов')\n",
        "\n",
        "# Выводим легенду\n",
        "plt.legend()\n",
        "plt.show()"
      ],
      "execution_count": 103,
      "outputs": [
        {
          "output_type": "display_data",
          "data": {
            "image/png": "[encoded data removed]",
            "text/plain": [
              "<Figure size 432x288 with 1 Axes>"
            ]
          },
          "metadata": {
            "tags": [],
            "needs_background": "light"
          }
        }
      ]
    },
    {
      "cell_type": "code",
      "metadata": {
        "colab": {
          "base_uri": "https://localhost:8080/",
          "height": 279
        },
        "id": "ahzf4r8kdfmM",
        "outputId": "2cac92a8-556b-4409-994a-22db2d04cc24"
      },
      "source": [
        "plt.plot(history.history['loss'], \n",
        "         label='Ошибка на обучающем наборе')\n",
        "plt.plot(history.history['val_loss'], \n",
        "         label='Ошибка на проверочном наборе')\n",
        "plt.xlabel('Эпоха обучения')\n",
        "plt.ylabel('Ошибка')\n",
        "plt.legend()\n",
        "plt.show()"
      ],
      "execution_count": 105,
      "outputs": [
        {
          "output_type": "display_data",
          "data": {
            "image/png": "[encoded data removed]",
            "text/plain": [
              "<Figure size 432x288 with 1 Axes>"
            ]
          },
          "metadata": {
            "tags": [],
            "needs_background": "light"
          }
        }
      ]
    }
  ]
}